{
  "nbformat": 4,
  "nbformat_minor": 0,
  "metadata": {
    "colab": {
      "name": "BTCUSDT-h1-Binance.ipynb",
      "provenance": [],
      "collapsed_sections": []
    },
    "kernelspec": {
      "name": "python3",
      "display_name": "Python 3"
    }
  },
  "cells": [
    {
      "cell_type": "code",
      "metadata": {
        "id": "fNShHX5waRHR",
        "colab_type": "code",
        "colab": {
          "base_uri": "https://localhost:8080/",
          "height": 527
        },
        "outputId": "f6eac725-f768-4ba5-f11c-e176e565936f"
      },
      "source": [
        "! pip install python-binance"
      ],
      "execution_count": 15,
      "outputs": [
        {
          "output_type": "stream",
          "text": [
            "Requirement already satisfied: python-binance in /usr/local/lib/python3.6/dist-packages (0.7.5)\n",
            "Requirement already satisfied: service-identity in /usr/local/lib/python3.6/dist-packages (from python-binance) (18.1.0)\n",
            "Requirement already satisfied: Twisted in /usr/local/lib/python3.6/dist-packages (from python-binance) (20.3.0)\n",
            "Requirement already satisfied: autobahn in /usr/local/lib/python3.6/dist-packages (from python-binance) (20.4.3)\n",
            "Requirement already satisfied: requests in /usr/local/lib/python3.6/dist-packages (from python-binance) (2.23.0)\n",
            "Requirement already satisfied: urllib3 in /usr/local/lib/python3.6/dist-packages (from python-binance) (1.24.3)\n",
            "Requirement already satisfied: pyOpenSSL in /usr/local/lib/python3.6/dist-packages (from python-binance) (19.1.0)\n",
            "Requirement already satisfied: six in /usr/local/lib/python3.6/dist-packages (from python-binance) (1.12.0)\n",
            "Requirement already satisfied: certifi in /usr/local/lib/python3.6/dist-packages (from python-binance) (2020.4.5.1)\n",
            "Requirement already satisfied: cryptography in /usr/local/lib/python3.6/dist-packages (from python-binance) (2.9.2)\n",
            "Requirement already satisfied: dateparser in /usr/local/lib/python3.6/dist-packages (from python-binance) (0.7.4)\n",
            "Requirement already satisfied: pyasn1 in /usr/local/lib/python3.6/dist-packages (from service-identity->python-binance) (0.4.8)\n",
            "Requirement already satisfied: attrs>=16.0.0 in /usr/local/lib/python3.6/dist-packages (from service-identity->python-binance) (19.3.0)\n",
            "Requirement already satisfied: pyasn1-modules in /usr/local/lib/python3.6/dist-packages (from service-identity->python-binance) (0.2.8)\n",
            "Requirement already satisfied: hyperlink>=17.1.1 in /usr/local/lib/python3.6/dist-packages (from Twisted->python-binance) (19.0.0)\n",
            "Requirement already satisfied: constantly>=15.1 in /usr/local/lib/python3.6/dist-packages (from Twisted->python-binance) (15.1.0)\n",
            "Requirement already satisfied: PyHamcrest!=1.10.0,>=1.9.0 in /usr/local/lib/python3.6/dist-packages (from Twisted->python-binance) (2.0.2)\n",
            "Requirement already satisfied: zope.interface>=4.4.2 in /usr/local/lib/python3.6/dist-packages (from Twisted->python-binance) (5.1.0)\n",
            "Requirement already satisfied: incremental>=16.10.1 in /usr/local/lib/python3.6/dist-packages (from Twisted->python-binance) (17.5.0)\n",
            "Requirement already satisfied: Automat>=0.3.0 in /usr/local/lib/python3.6/dist-packages (from Twisted->python-binance) (20.2.0)\n",
            "Requirement already satisfied: txaio>=20.3.1 in /usr/local/lib/python3.6/dist-packages (from autobahn->python-binance) (20.4.1)\n",
            "Requirement already satisfied: chardet<4,>=3.0.2 in /usr/local/lib/python3.6/dist-packages (from requests->python-binance) (3.0.4)\n",
            "Requirement already satisfied: idna<3,>=2.5 in /usr/local/lib/python3.6/dist-packages (from requests->python-binance) (2.9)\n",
            "Requirement already satisfied: cffi!=1.11.3,>=1.8 in /usr/local/lib/python3.6/dist-packages (from cryptography->python-binance) (1.14.0)\n",
            "Requirement already satisfied: python-dateutil in /usr/local/lib/python3.6/dist-packages (from dateparser->python-binance) (2.8.1)\n",
            "Requirement already satisfied: regex!=2019.02.19 in /usr/local/lib/python3.6/dist-packages (from dateparser->python-binance) (2019.12.20)\n",
            "Requirement already satisfied: pytz in /usr/local/lib/python3.6/dist-packages (from dateparser->python-binance) (2018.9)\n",
            "Requirement already satisfied: tzlocal in /usr/local/lib/python3.6/dist-packages (from dateparser->python-binance) (1.5.1)\n",
            "Requirement already satisfied: setuptools in /usr/local/lib/python3.6/dist-packages (from zope.interface>=4.4.2->Twisted->python-binance) (46.3.0)\n",
            "Requirement already satisfied: pycparser in /usr/local/lib/python3.6/dist-packages (from cffi!=1.11.3,>=1.8->cryptography->python-binance) (2.20)\n"
          ],
          "name": "stdout"
        }
      ]
    },
    {
      "cell_type": "code",
      "metadata": {
        "id": "Xb15Qg61aWHr",
        "colab_type": "code",
        "colab": {}
      },
      "source": [
        "from datetime import datetime, timedelta\n",
        "import pandas as pd\n",
        "from binance.client import Client\n",
        "binance_client = Client()"
      ],
      "execution_count": 0,
      "outputs": []
    },
    {
      "cell_type": "code",
      "metadata": {
        "id": "iYdiFH6Za3rK",
        "colab_type": "code",
        "colab": {}
      },
      "source": [
        "# get data interval 1 hour\n",
        "pairs = 'BTCUSDT'\n",
        "from_date = datetime.now() + timedelta(hours=-24)\n",
        "klines_h1 = binance_client.get_historical_klines(pairs, Client.KLINE_INTERVAL_1HOUR, int(from_date.timestamp() * 1000))"
      ],
      "execution_count": 0,
      "outputs": []
    },
    {
      "cell_type": "code",
      "metadata": {
        "id": "Fp1R8Mj1bU2L",
        "colab_type": "code",
        "colab": {
          "base_uri": "https://localhost:8080/",
          "height": 34
        },
        "outputId": "6d9aebb2-753c-4699-c0a5-d475014de08f"
      },
      "source": [
        "len(klines_h1)"
      ],
      "execution_count": 18,
      "outputs": [
        {
          "output_type": "execute_result",
          "data": {
            "text/plain": [
              "24"
            ]
          },
          "metadata": {
            "tags": []
          },
          "execution_count": 18
        }
      ]
    },
    {
      "cell_type": "code",
      "metadata": {
        "id": "F4vl2YGibcUF",
        "colab_type": "code",
        "colab": {}
      },
      "source": [
        "ohlc_data = []\n",
        "for kline in klines_h1:\n",
        "  _date = datetime.fromtimestamp(kline[0]/1000).strftime('%Y-%m-%d %H:%M:%S')\n",
        "  ohlc_data.append([_date, float(kline[1]), float(kline[2]), float(kline[3]), float(kline[4]), float(kline[5])])"
      ],
      "execution_count": 0,
      "outputs": []
    },
    {
      "cell_type": "code",
      "metadata": {
        "id": "fQVC-3AMbhSW",
        "colab_type": "code",
        "colab": {}
      },
      "source": [
        "df = pd.DataFrame(ohlc_data, columns=['Date', 'Open', 'High', 'Low', 'Close', 'Volume'], index=None)\n",
        "df['Date'] = pd.to_datetime(df.Date, format='%Y-%m-%d %H:%M:%S')\n",
        "df = df.set_index('Date')"
      ],
      "execution_count": 0,
      "outputs": []
    },
    {
      "cell_type": "code",
      "metadata": {
        "id": "gsNgmRQ0brUE",
        "colab_type": "code",
        "colab": {
          "base_uri": "https://localhost:8080/",
          "height": 824
        },
        "outputId": "2d9b47ca-5a2d-496d-d962-f22d3adc7225"
      },
      "source": [
        "df"
      ],
      "execution_count": 21,
      "outputs": [
        {
          "output_type": "execute_result",
          "data": {
            "text/html": [
              "<div>\n",
              "<style scoped>\n",
              "    .dataframe tbody tr th:only-of-type {\n",
              "        vertical-align: middle;\n",
              "    }\n",
              "\n",
              "    .dataframe tbody tr th {\n",
              "        vertical-align: top;\n",
              "    }\n",
              "\n",
              "    .dataframe thead th {\n",
              "        text-align: right;\n",
              "    }\n",
              "</style>\n",
              "<table border=\"1\" class=\"dataframe\">\n",
              "  <thead>\n",
              "    <tr style=\"text-align: right;\">\n",
              "      <th></th>\n",
              "      <th>Open</th>\n",
              "      <th>High</th>\n",
              "      <th>Low</th>\n",
              "      <th>Close</th>\n",
              "      <th>Volume</th>\n",
              "    </tr>\n",
              "    <tr>\n",
              "      <th>Date</th>\n",
              "      <th></th>\n",
              "      <th></th>\n",
              "      <th></th>\n",
              "      <th></th>\n",
              "      <th></th>\n",
              "    </tr>\n",
              "  </thead>\n",
              "  <tbody>\n",
              "    <tr>\n",
              "      <th>2020-05-20 14:00:00</th>\n",
              "      <td>9789.80</td>\n",
              "      <td>9799.00</td>\n",
              "      <td>9761.03</td>\n",
              "      <td>9765.09</td>\n",
              "      <td>1666.891127</td>\n",
              "    </tr>\n",
              "    <tr>\n",
              "      <th>2020-05-20 15:00:00</th>\n",
              "      <td>9765.47</td>\n",
              "      <td>9767.84</td>\n",
              "      <td>9326.00</td>\n",
              "      <td>9414.50</td>\n",
              "      <td>18223.812411</td>\n",
              "    </tr>\n",
              "    <tr>\n",
              "      <th>2020-05-20 16:00:00</th>\n",
              "      <td>9414.51</td>\n",
              "      <td>9528.95</td>\n",
              "      <td>9352.27</td>\n",
              "      <td>9497.99</td>\n",
              "      <td>8529.590045</td>\n",
              "    </tr>\n",
              "    <tr>\n",
              "      <th>2020-05-20 17:00:00</th>\n",
              "      <td>9497.99</td>\n",
              "      <td>9547.32</td>\n",
              "      <td>9441.99</td>\n",
              "      <td>9539.47</td>\n",
              "      <td>3661.460275</td>\n",
              "    </tr>\n",
              "    <tr>\n",
              "      <th>2020-05-20 18:00:00</th>\n",
              "      <td>9539.23</td>\n",
              "      <td>9546.00</td>\n",
              "      <td>9504.49</td>\n",
              "      <td>9531.82</td>\n",
              "      <td>1923.841394</td>\n",
              "    </tr>\n",
              "    <tr>\n",
              "      <th>2020-05-20 19:00:00</th>\n",
              "      <td>9531.83</td>\n",
              "      <td>9538.97</td>\n",
              "      <td>9485.00</td>\n",
              "      <td>9531.99</td>\n",
              "      <td>1913.714670</td>\n",
              "    </tr>\n",
              "    <tr>\n",
              "      <th>2020-05-20 20:00:00</th>\n",
              "      <td>9531.99</td>\n",
              "      <td>9598.00</td>\n",
              "      <td>9511.42</td>\n",
              "      <td>9588.58</td>\n",
              "      <td>2284.714592</td>\n",
              "    </tr>\n",
              "    <tr>\n",
              "      <th>2020-05-20 21:00:00</th>\n",
              "      <td>9588.50</td>\n",
              "      <td>9589.95</td>\n",
              "      <td>9532.43</td>\n",
              "      <td>9551.21</td>\n",
              "      <td>1608.981682</td>\n",
              "    </tr>\n",
              "    <tr>\n",
              "      <th>2020-05-20 22:00:00</th>\n",
              "      <td>9551.53</td>\n",
              "      <td>9570.95</td>\n",
              "      <td>9504.06</td>\n",
              "      <td>9527.75</td>\n",
              "      <td>1490.826485</td>\n",
              "    </tr>\n",
              "    <tr>\n",
              "      <th>2020-05-20 23:00:00</th>\n",
              "      <td>9527.78</td>\n",
              "      <td>9550.00</td>\n",
              "      <td>9435.87</td>\n",
              "      <td>9511.43</td>\n",
              "      <td>2798.305206</td>\n",
              "    </tr>\n",
              "    <tr>\n",
              "      <th>2020-05-21 00:00:00</th>\n",
              "      <td>9511.43</td>\n",
              "      <td>9578.47</td>\n",
              "      <td>9478.69</td>\n",
              "      <td>9556.46</td>\n",
              "      <td>1908.992496</td>\n",
              "    </tr>\n",
              "    <tr>\n",
              "      <th>2020-05-21 01:00:00</th>\n",
              "      <td>9557.72</td>\n",
              "      <td>9564.37</td>\n",
              "      <td>9510.00</td>\n",
              "      <td>9514.90</td>\n",
              "      <td>1188.809609</td>\n",
              "    </tr>\n",
              "    <tr>\n",
              "      <th>2020-05-21 02:00:00</th>\n",
              "      <td>9514.58</td>\n",
              "      <td>9532.78</td>\n",
              "      <td>9458.24</td>\n",
              "      <td>9472.05</td>\n",
              "      <td>1792.004360</td>\n",
              "    </tr>\n",
              "    <tr>\n",
              "      <th>2020-05-21 03:00:00</th>\n",
              "      <td>9472.11</td>\n",
              "      <td>9503.86</td>\n",
              "      <td>9447.26</td>\n",
              "      <td>9483.37</td>\n",
              "      <td>2119.869578</td>\n",
              "    </tr>\n",
              "    <tr>\n",
              "      <th>2020-05-21 04:00:00</th>\n",
              "      <td>9483.37</td>\n",
              "      <td>9500.06</td>\n",
              "      <td>9400.00</td>\n",
              "      <td>9483.65</td>\n",
              "      <td>2424.090443</td>\n",
              "    </tr>\n",
              "    <tr>\n",
              "      <th>2020-05-21 05:00:00</th>\n",
              "      <td>9483.66</td>\n",
              "      <td>9521.71</td>\n",
              "      <td>9483.00</td>\n",
              "      <td>9503.10</td>\n",
              "      <td>1873.708185</td>\n",
              "    </tr>\n",
              "    <tr>\n",
              "      <th>2020-05-21 06:00:00</th>\n",
              "      <td>9503.09</td>\n",
              "      <td>9532.39</td>\n",
              "      <td>9487.00</td>\n",
              "      <td>9488.45</td>\n",
              "      <td>1847.448110</td>\n",
              "    </tr>\n",
              "    <tr>\n",
              "      <th>2020-05-21 07:00:00</th>\n",
              "      <td>9488.91</td>\n",
              "      <td>9497.35</td>\n",
              "      <td>9446.00</td>\n",
              "      <td>9457.83</td>\n",
              "      <td>2587.186977</td>\n",
              "    </tr>\n",
              "    <tr>\n",
              "      <th>2020-05-21 08:00:00</th>\n",
              "      <td>9457.88</td>\n",
              "      <td>9505.57</td>\n",
              "      <td>9268.00</td>\n",
              "      <td>9377.66</td>\n",
              "      <td>8490.575926</td>\n",
              "    </tr>\n",
              "    <tr>\n",
              "      <th>2020-05-21 09:00:00</th>\n",
              "      <td>9377.73</td>\n",
              "      <td>9432.70</td>\n",
              "      <td>9297.64</td>\n",
              "      <td>9298.79</td>\n",
              "      <td>5012.385745</td>\n",
              "    </tr>\n",
              "    <tr>\n",
              "      <th>2020-05-21 10:00:00</th>\n",
              "      <td>9298.79</td>\n",
              "      <td>9381.53</td>\n",
              "      <td>9228.00</td>\n",
              "      <td>9374.77</td>\n",
              "      <td>4954.975216</td>\n",
              "    </tr>\n",
              "    <tr>\n",
              "      <th>2020-05-21 11:00:00</th>\n",
              "      <td>9374.77</td>\n",
              "      <td>9390.47</td>\n",
              "      <td>9340.00</td>\n",
              "      <td>9389.97</td>\n",
              "      <td>2331.129636</td>\n",
              "    </tr>\n",
              "    <tr>\n",
              "      <th>2020-05-21 12:00:00</th>\n",
              "      <td>9389.97</td>\n",
              "      <td>9395.43</td>\n",
              "      <td>9320.00</td>\n",
              "      <td>9362.64</td>\n",
              "      <td>2745.600452</td>\n",
              "    </tr>\n",
              "    <tr>\n",
              "      <th>2020-05-21 13:00:00</th>\n",
              "      <td>9362.39</td>\n",
              "      <td>9387.00</td>\n",
              "      <td>9355.00</td>\n",
              "      <td>9365.29</td>\n",
              "      <td>1023.225426</td>\n",
              "    </tr>\n",
              "  </tbody>\n",
              "</table>\n",
              "</div>"
            ],
            "text/plain": [
              "                        Open     High      Low    Close        Volume\n",
              "Date                                                                 \n",
              "2020-05-20 14:00:00  9789.80  9799.00  9761.03  9765.09   1666.891127\n",
              "2020-05-20 15:00:00  9765.47  9767.84  9326.00  9414.50  18223.812411\n",
              "2020-05-20 16:00:00  9414.51  9528.95  9352.27  9497.99   8529.590045\n",
              "2020-05-20 17:00:00  9497.99  9547.32  9441.99  9539.47   3661.460275\n",
              "2020-05-20 18:00:00  9539.23  9546.00  9504.49  9531.82   1923.841394\n",
              "2020-05-20 19:00:00  9531.83  9538.97  9485.00  9531.99   1913.714670\n",
              "2020-05-20 20:00:00  9531.99  9598.00  9511.42  9588.58   2284.714592\n",
              "2020-05-20 21:00:00  9588.50  9589.95  9532.43  9551.21   1608.981682\n",
              "2020-05-20 22:00:00  9551.53  9570.95  9504.06  9527.75   1490.826485\n",
              "2020-05-20 23:00:00  9527.78  9550.00  9435.87  9511.43   2798.305206\n",
              "2020-05-21 00:00:00  9511.43  9578.47  9478.69  9556.46   1908.992496\n",
              "2020-05-21 01:00:00  9557.72  9564.37  9510.00  9514.90   1188.809609\n",
              "2020-05-21 02:00:00  9514.58  9532.78  9458.24  9472.05   1792.004360\n",
              "2020-05-21 03:00:00  9472.11  9503.86  9447.26  9483.37   2119.869578\n",
              "2020-05-21 04:00:00  9483.37  9500.06  9400.00  9483.65   2424.090443\n",
              "2020-05-21 05:00:00  9483.66  9521.71  9483.00  9503.10   1873.708185\n",
              "2020-05-21 06:00:00  9503.09  9532.39  9487.00  9488.45   1847.448110\n",
              "2020-05-21 07:00:00  9488.91  9497.35  9446.00  9457.83   2587.186977\n",
              "2020-05-21 08:00:00  9457.88  9505.57  9268.00  9377.66   8490.575926\n",
              "2020-05-21 09:00:00  9377.73  9432.70  9297.64  9298.79   5012.385745\n",
              "2020-05-21 10:00:00  9298.79  9381.53  9228.00  9374.77   4954.975216\n",
              "2020-05-21 11:00:00  9374.77  9390.47  9340.00  9389.97   2331.129636\n",
              "2020-05-21 12:00:00  9389.97  9395.43  9320.00  9362.64   2745.600452\n",
              "2020-05-21 13:00:00  9362.39  9387.00  9355.00  9365.29   1023.225426"
            ]
          },
          "metadata": {
            "tags": []
          },
          "execution_count": 21
        }
      ]
    },
    {
      "cell_type": "code",
      "metadata": {
        "id": "Z4OlvCq3bwyB",
        "colab_type": "code",
        "colab": {}
      },
      "source": [
        ""
      ],
      "execution_count": 0,
      "outputs": []
    }
  ]
}